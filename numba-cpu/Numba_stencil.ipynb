{
 "cells": [
  {
   "cell_type": "markdown",
   "metadata": {},
   "source": [
    "# Stencil Calculations with Numba"
   ]
  },
  {
   "cell_type": "code",
   "execution_count": null,
   "metadata": {},
   "outputs": [],
   "source": [
    "import numpy as np\n",
    "import numba\n",
    "import matplotlib.pyplot as plt\n",
    "from matplotlib.animation import FuncAnimation"
   ]
  },
  {
   "cell_type": "markdown",
   "metadata": {},
   "source": [
    "## Heat equation\n",
    "\\begin{align}\n",
    "\\frac{\\partial u}{\\partial t} &= \\alpha\\frac{\\partial^2u}{\\partial x^2},\\quad\\quad &\\text{$x\\in (0,L), t \\in (0, T]$} \\\\\n",
    "u(x,0)&=I_0(x),\\quad\\quad &\\text{$x \\in [0, L]$} \\\\\n",
    "u(0,t) &= 0,\\quad\\quad & t>0 \\\\\n",
    "u(L,t) &= 0,\\quad\\quad & t>0\n",
    "\\end{align}"
   ]
  },
  {
   "cell_type": "markdown",
   "metadata": {},
   "source": [
    "## Discretization of the Heat equation\n",
    "\n",
    "\\begin{align}\n",
    "\\text{space discretization:}\\quad\\quad\\quad\\quad\\quad x_i &=i \\Delta x, \\quad i=0,\\ldots,Nx\\\\\n",
    "\\text{time discretization:}\\quad\\quad\\quad\\quad\\quad t_n &= n\\Delta t, \\quad n = 0,\\ldots, N_t \\\\\n",
    "\\frac{u_i^{n+1}-u_i^n}{\\Delta t} &= \\alpha \\frac{u_{i+1}^n-2u_i^n+u_{i-1}^n}{\\Delta x^2}\\\\\n",
    "u_i^{n+1} &= u_i^n + F \\left( u_{i+1}^n -2 u_i^n + u_{i-1}^n\\right) \\\\\n",
    "\\text{mesh Fourier number:}\\quad\\quad\\quad\\quad\\quad F &= \\alpha \\frac{\\Delta t}{\\Delta x ^2}\n",
    "\\end{align}"
   ]
  },
  {
   "cell_type": "code",
   "execution_count": null,
   "metadata": {},
   "outputs": [],
   "source": [
    "nx = 500\n",
    "nt = 10000\n",
    "T = 100.0\n",
    "L = 100.0\n",
    "dx = L / nx\n",
    "dt = T / nt\n",
    "alpha = 1.0\n",
    "F = alpha * dt / dx ** 2 \n",
    "print(F)\n",
    "x = np.linspace(0, L, nx + 1)\n",
    "temp = np.zeros(nx + 1)\n",
    "temp[nx//2:nx//2+nx//10] = np.sin(2.0 * np.pi * (x[nx//2:nx//2+nx//10] - x[nx//2])/(L/5))"
   ]
  },
  {
   "cell_type": "code",
   "execution_count": null,
   "metadata": {},
   "outputs": [],
   "source": [
    "@numba.stencil\n",
    "def central_diff_stencil(x, F):\n",
    "    return x[0]  + F * (x[1] - 2.0 * x[0] + x[-1])"
   ]
  },
  {
   "cell_type": "code",
   "execution_count": null,
   "metadata": {},
   "outputs": [],
   "source": [
    "@numba.njit(parallel=True)\n",
    "def simulation(x, F, nt):\n",
    "    for i in range(nt):\n",
    "        x = central_diff_stencil(x, F)\n",
    "    \n",
    "    return x"
   ]
  },
  {
   "cell_type": "code",
   "execution_count": null,
   "metadata": {},
   "outputs": [],
   "source": [
    "temp_final = simulation(temp, F, nt)\n",
    "fig = plt.figure(figsize=(20,10))\n",
    "ax = fig.add_subplot(111)\n",
    "ax.plot(x, temp, label='t=0.0')\n",
    "ax.plot(x, temp_final, label=f't={T}')\n",
    "ax.set_xlabel('x')\n",
    "ax.set_ylabel('u')\n",
    "ax.legend();"
   ]
  },
  {
   "cell_type": "code",
   "execution_count": null,
   "metadata": {},
   "outputs": [],
   "source": []
  }
 ],
 "metadata": {
  "kernelspec": {
   "display_name": "Python 3",
   "language": "python",
   "name": "python3"
  },
  "language_info": {
   "codemirror_mode": {
    "name": "ipython",
    "version": 3
   },
   "file_extension": ".py",
   "mimetype": "text/x-python",
   "name": "python",
   "nbconvert_exporter": "python",
   "pygments_lexer": "ipython3",
   "version": "3.7.0"
  }
 },
 "nbformat": 4,
 "nbformat_minor": 2
}
