{
 "cells": [
  {
   "cell_type": "markdown",
   "metadata": {},
   "source": [
    "# Optimizing Python Code with [Cython](https://cython.org/)"
   ]
  },
  {
   "cell_type": "code",
   "execution_count": null,
   "metadata": {},
   "outputs": [],
   "source": [
    "import Cython\n",
    "from random import random\n",
    "import math\n",
    "import numpy as np\n",
    "import matplotlib.pyplot as plt\n",
    "\n",
    "# This is needed to load the Cython magic\n",
    "%load_ext Cython "
   ]
  },
  {
   "cell_type": "markdown",
   "metadata": {},
   "source": [
    "## Calculating $\\pi$ using Monte Carlo Integration"
   ]
  },
  {
   "cell_type": "markdown",
   "metadata": {},
   "source": [
    "### Pure Python"
   ]
  },
  {
   "cell_type": "code",
   "execution_count": null,
   "metadata": {},
   "outputs": [],
   "source": [
    "def pi_mc(n=1000):\n",
    "    '''Calculate PI using Monte Carlo method'''\n",
    "    in_circle = 0\n",
    "    for i in range(n):\n",
    "        x, y = random(), random()\n",
    "        if x ** 2 + y ** 2 <= 1.0:\n",
    "            in_circle += 1\n",
    "        \n",
    "    return 4.0 * in_circle / n"
   ]
  },
  {
   "cell_type": "code",
   "execution_count": null,
   "metadata": {},
   "outputs": [],
   "source": [
    "%time pi_mc(10000000)"
   ]
  },
  {
   "cell_type": "markdown",
   "metadata": {},
   "source": [
    "### Cython"
   ]
  },
  {
   "cell_type": "markdown",
   "metadata": {},
   "source": [
    "#### 1. Use `cython` cell magic without making any code change"
   ]
  },
  {
   "cell_type": "code",
   "execution_count": null,
   "metadata": {},
   "outputs": [],
   "source": [
    "%%cython\n",
    "\n",
    "from random import random\n",
    "\n",
    "def pi_mc(n=1000):\n",
    "    '''Calculate PI using Monte Carlo method'''\n",
    "    in_circle = 0\n",
    "    for i in range(n):\n",
    "        x, y = random(), random()\n",
    "        if x ** 2 + y ** 2 <= 1.0:\n",
    "            in_circle += 1\n",
    "        \n",
    "    return 4.0 * in_circle / n"
   ]
  },
  {
   "cell_type": "code",
   "execution_count": null,
   "metadata": {},
   "outputs": [],
   "source": [
    "%time pi_mc(10000000)"
   ]
  },
  {
   "cell_type": "markdown",
   "metadata": {},
   "source": [
    "#### 2. Static type declarations in Cython with `cdef`\n",
    "\n",
    "Static type declarations allow Cython to step out of the dynamic nature of the Python code and produce efficient C code. The following table summarizes the primitive Cython types."
   ]
  },
  {
   "cell_type": "code",
   "execution_count": null,
   "metadata": {},
   "outputs": [],
   "source": [
    "%%cython\n",
    "\n",
    "from random import random\n",
    "\n",
    "def pi_mc(n=1000):\n",
    "    '''Calculate PI using Monte Carlo method'''\n",
    "    cdef int in_circle = 0\n",
    "    cdef int i\n",
    "    cdef double x, y\n",
    "    for i in range(n):\n",
    "        x, y = random(), random()\n",
    "        if x ** 2 + y ** 2 <= 1.0:\n",
    "            in_circle += 1\n",
    "        \n",
    "    return 4.0 * in_circle / n"
   ]
  },
  {
   "cell_type": "code",
   "execution_count": null,
   "metadata": {},
   "outputs": [],
   "source": [
    "%time pi_mc(10000000)"
   ]
  },
  {
   "cell_type": "markdown",
   "metadata": {},
   "source": [
    "#### 3. Using Cython `annotate` option and inspect the generated C code"
   ]
  },
  {
   "cell_type": "code",
   "execution_count": null,
   "metadata": {},
   "outputs": [],
   "source": [
    "%%cython --annotate\n",
    "\n",
    "from random import random\n",
    "\n",
    "def pi_mc(int n=1000):\n",
    "    '''Calculate PI using Monte Carlo method'''\n",
    "    cdef:\n",
    "        int in_circle = 0\n",
    "        int i\n",
    "        double x, y\n",
    "    for i in range(n):\n",
    "        x, y = random(), random()\n",
    "        if x ** 2 + y ** 2 <= 1.0:\n",
    "            in_circle += 1\n",
    "        \n",
    "    return 4.0 * in_circle / n"
   ]
  },
  {
   "cell_type": "code",
   "execution_count": null,
   "metadata": {},
   "outputs": [],
   "source": [
    "%time pi_mc(10000000)"
   ]
  }
 ],
 "metadata": {
  "kernelspec": {
   "display_name": "Python 3",
   "language": "python",
   "name": "python3"
  },
  "language_info": {
   "codemirror_mode": {
    "name": "ipython",
    "version": 3
   },
   "file_extension": ".py",
   "mimetype": "text/x-python",
   "name": "python",
   "nbconvert_exporter": "python",
   "pygments_lexer": "ipython3",
   "version": "3.6.5"
  }
 },
 "nbformat": 4,
 "nbformat_minor": 2
}
