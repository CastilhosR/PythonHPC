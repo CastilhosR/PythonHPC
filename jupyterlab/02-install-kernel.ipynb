{
 "cells": [
  {
   "cell_type": "markdown",
   "metadata": {
    "slideshow": {
     "slide_type": "slide"
    }
   },
   "source": [
    "# Installing a Custom Kernel\n",
    "\n",
    "_Tim Robinson, CSCS_\n",
    "\n",
    "A Jupyter notebook is attached to a **kernel**, which runs the code. An IPython (Python 3) kernel is provided by default and can be accessed via the Launcher. A bash kernel is also provided by default. \n",
    "\n",
    "Here we will install a custom kernel which loads a **conda environment** which has been created specifically for this course. It includes (amongst other things) numba, which is a JIT compiler for numerical functions in Python, and cupy.  \n",
    "\n",
    "We will use this kernel for exercises this week.\n",
    "\n",
    "<div class=\"alert alert-block alert-info\">\n",
    "<b>Tip:</b> JupyterLab looks for user-installed kernels in $HOME/.local/share/jupyter/kernels/.\n",
    "</div>\n",
    "\n",
    "We will install our new kernel by issuing commands directly from this notebook. The most important file in a kernel directory is `kernel.json`. This is a JSON serialised dictionary containing the following keys and values (and some optional others):\n",
    "- `argv`: list of command line arguments used to start the kernel. The text `{connection_file}` in any argument will be replaced with the path to the connection file (this specifies how to set up communications with the frontend).\n",
    "- `display_name`: The kernel’s name in the user interface. \n",
    "- `language`: The name of the language of the kernel. "
   ]
  },
  {
   "cell_type": "markdown",
   "metadata": {
    "slideshow": {
     "slide_type": "slide"
    }
   },
   "source": [
    "First, create a directory to hold your kernel using the `!` operator:"
   ]
  },
  {
   "cell_type": "code",
   "execution_count": 1,
   "metadata": {
    "slideshow": {
     "slide_type": "fragment"
    }
   },
   "outputs": [],
   "source": [
    "! mkdir -p ~/.local/share/jupyter/kernels/pyhpc2020/"
   ]
  },
  {
   "cell_type": "markdown",
   "metadata": {
    "slideshow": {
     "slide_type": "slide"
    }
   },
   "source": [
    "Now, write the `kernel.json` file in that directory, using the `%%bash` magic. We add the path to a custom helper script called `launcher`."
   ]
  },
  {
   "cell_type": "code",
   "execution_count": 3,
   "metadata": {},
   "outputs": [],
   "source": [
    "%%bash\n",
    "/bin/cat <<EOM > ~/.local/share/jupyter/kernels/pyhpc2020/kernel.json\n",
    "{\n",
    " \"display_name\": \"pyhpc2020\",\n",
    " \"language\": \"python\",\n",
    " \"argv\": [\n",
    "  \"/users/$USER/.local/share/jupyter/kernels/pyhpc2020/launcher\",\n",
    "  \"-f\",\n",
    "  \"{connection_file}\"\n",
    " ]\n",
    "}\n",
    "EOM"
   ]
  },
  {
   "cell_type": "markdown",
   "metadata": {
    "slideshow": {
     "slide_type": "slide"
    }
   },
   "source": [
    "Now, create the `launcher` script with the `%%writefile` magic (or by any other means!):"
   ]
  },
  {
   "cell_type": "code",
   "execution_count": 4,
   "metadata": {
    "slideshow": {
     "slide_type": "fragment"
    }
   },
   "outputs": [
    {
     "name": "stdout",
     "output_type": "stream",
     "text": [
      "Writing /users/robinson/.local/share/jupyter/kernels/pyhpc2020/launcher\n"
     ]
    }
   ],
   "source": [
    "%%writefile ~/.local/share/jupyter/kernels/pyhpc2020/launcher\n",
    "#!/usr/bin/env bash\n",
    "export PYTHONPATH=''\n",
    "if [ \"$SOURCE_JUPYTERHUBENV\" == true ]; then\n",
    "    source $HOME/.jupyterhub.env\n",
    "fi\n",
    "source /apps/daint/UES/6.0.UP04/sandboxes/sarafael/miniconda-pyhpc2020/bin/activate\n",
    "/apps/daint/UES/6.0.UP04/sandboxes/sarafael/miniconda-pyhpc2020/bin/python -m ipykernel_launcher $@"
   ]
  },
  {
   "cell_type": "markdown",
   "metadata": {
    "slideshow": {
     "slide_type": "slide"
    }
   },
   "source": [
    "Finally, make the custom launcher script executable:"
   ]
  },
  {
   "cell_type": "code",
   "execution_count": 5,
   "metadata": {
    "slideshow": {
     "slide_type": "fragment"
    }
   },
   "outputs": [],
   "source": [
    "! chmod +x ~/.local/share/jupyter/kernels/pyhpc2020/launcher"
   ]
  },
  {
   "cell_type": "markdown",
   "metadata": {},
   "source": [
    "## Attaching to the new kernel\n",
    "\n",
    "**Before** switching to the new kernel:\n",
    "\n",
    "<div class=\"alert alert-warning alert-block alert-info\"><b>Exercise:</b> What version of numpy is provided in the default Python 3 kernel? </div>\n",
    "<div class=\"alert alert-warning alert-block alert-info\"><b>Exercise:</b> And what is the location of numpy?</div>"
   ]
  },
  {
   "cell_type": "code",
   "execution_count": 1,
   "metadata": {
    "slideshow": {
     "slide_type": "fragment"
    }
   },
   "outputs": [
    {
     "name": "stdout",
     "output_type": "stream",
     "text": [
      "1.18.5\n"
     ]
    }
   ],
   "source": [
    "import numpy as np\n",
    "print(np.__version__)"
   ]
  },
  {
   "cell_type": "code",
   "execution_count": 2,
   "metadata": {
    "slideshow": {
     "slide_type": "fragment"
    }
   },
   "outputs": [
    {
     "name": "stdout",
     "output_type": "stream",
     "text": [
      "/apps/daint/UES/6.0.UP04/sandboxes/sarafael/miniconda-pyhpc2020/lib/python3.6/site-packages/numpy/__init__.py\n"
     ]
    }
   ],
   "source": [
    "print(np.__file__)"
   ]
  },
  {
   "cell_type": "markdown",
   "metadata": {
    "slideshow": {
     "slide_type": "slide"
    }
   },
   "source": [
    "### Now switch kernels\n",
    "\n",
    "Attach this notebook to the kernel you have just created. You can do this in a number of different ways:\n",
    "- Via the Main Menu (Kernel -> Change Kernel -> \"conda-pythonhpc-07.2020\")\n",
    "- By clicking on \"Python 3\" at the top right of the notebook tab -> \"conda-pythonhpc-07.2020\"\n",
    "- By clicking on \"Python 3\" on the JupyterLab bottom toolbar and selecting \"conda-pythonhpc-07.2020\"\n",
    "- By searching for \"Change Kernel\" in the Command Palette...\n",
    "\n",
    "The new kernel will also be availalbe when creating new notebooks via the Launcher."
   ]
  },
  {
   "cell_type": "markdown",
   "metadata": {
    "slideshow": {
     "slide_type": "slide"
    }
   },
   "source": [
    "<div class=\"alert alert-warning alert-block alert-info\"><b>Exercise:</b> Verify you have switched kernel - What version of numpy is provided in the new kernel? And where is it located?</div>"
   ]
  },
  {
   "cell_type": "code",
   "execution_count": null,
   "metadata": {},
   "outputs": [],
   "source": [
    "import numpy as np\n",
    "print(np.__version__)\n",
    "print(np.__file__)"
   ]
  },
  {
   "cell_type": "markdown",
   "metadata": {
    "slideshow": {
     "slide_type": "slide"
    }
   },
   "source": [
    "<div class=\"alert alert-warning alert-block alert-info\"><b>Exercise:</b> Which vendor linear algebra library is numpy linked to in the new kernel?</div>"
   ]
  },
  {
   "cell_type": "code",
   "execution_count": null,
   "metadata": {
    "slideshow": {
     "slide_type": "fragment"
    }
   },
   "outputs": [],
   "source": [
    "np.show_config()"
   ]
  },
  {
   "cell_type": "markdown",
   "metadata": {},
   "source": [
    "<div class=\"alert alert-warning alert-block alert-info\"><b>Exercise:</b> Determine what computational resources are available on the node using Numba (!numba -s).\n",
    "\n",
    "- How many CPU sockets, how many cores? What architecture...?\n",
    "- Are there GPU(s)? What is the device type, architecture...? </div>"
   ]
  },
  {
   "cell_type": "code",
   "execution_count": 3,
   "metadata": {},
   "outputs": [
    {
     "name": "stdout",
     "output_type": "stream",
     "text": [
      "System info:\n",
      "--------------------------------------------------------------------------------\n",
      "__Time Stamp__\n",
      "Report started (local time)                   : 2020-07-01 17:29:21.172536\n",
      "UTC start time                                : 2020-07-01 15:29:21.172539\n",
      "Running time (s)                              : 9.716852\n",
      "\n",
      "__Hardware Information__\n",
      "Machine                                       : x86_64\n",
      "CPU Name                                      : haswell\n",
      "CPU Count                                     : 24\n",
      "Number of accessible CPUs                     : 24\n",
      "List of accessible CPUs cores                 : 0 1 2 3 4 5 6 7 8 9 10 11 12 13 14 15 16 17 18 19 20 21 22 23\n",
      "CFS Restrictions (CPUs worth of runtime)      : None\n",
      "\n",
      "CPU Features                                  : 64bit aes avx avx2 bmi bmi2 cmov\n",
      "                                                cx16 cx8 f16c fma fsgsbase fxsr\n",
      "                                                invpcid lzcnt mmx movbe pclmul\n",
      "                                                popcnt rdrnd sahf sse sse2 sse3\n",
      "                                                sse4.1 sse4.2 ssse3 xsave xsaveopt\n",
      "\n",
      "Memory Total (MB)                             : 64299\n",
      "Memory Available (MB)                         : 60549\n",
      "\n",
      "__OS Information__\n",
      "Platform Name                                 : Linux-4.12.14-150.17_5.0.85-cray_ari_c-x86_64-with-glibc2.9\n",
      "Platform Release                              : 4.12.14-150.17_5.0.85-cray_ari_c\n",
      "OS Name                                       : Linux\n",
      "OS Version                                    : #1 SMP Thu Aug 22 18:29:02 UTC 2019 (24c42de)\n",
      "OS Specific Version                           : ?\n",
      "Libc Version                                  : glibc 2.9\n",
      "\n",
      "__Python Information__\n",
      "Python Compiler                               : GCC 7.2.0\n",
      "Python Implementation                         : CPython\n",
      "Python Version                                : 3.6.2\n",
      "Python Locale                                 : en_US.UTF-8\n",
      "\n",
      "__LLVM Information__\n",
      "LLVM Version                                  : 9.0.1\n",
      "\n",
      "__CUDA Information__\n",
      "CUDA Device Initialized                       : True\n",
      "CUDA Driver Version                           : 10010\n",
      "CUDA Detect Output:\n",
      "Found 1 CUDA devices\n",
      "id 0    b'Tesla P100-PCIE-16GB'                              [SUPPORTED]\n",
      "                      compute capability: 6.0\n",
      "                           pci device id: 0\n",
      "                              pci bus id: 2\n",
      "Summary:\n",
      "\t1/1 devices are supported\n",
      "\n",
      "CUDA Librairies Test Output:\n",
      "Finding cublas from Conda environment\n",
      "\tnamed  libcublas.so.10.2.1.243\n",
      "\ttrying to open library...\tok\n",
      "Finding cusparse from Conda environment\n",
      "\tnamed  libcusparse.so.10.3.0.243\n",
      "\ttrying to open library...\tok\n",
      "Finding cufft from Conda environment\n",
      "\tnamed  libcufft.so.10.1.1.243\n",
      "\ttrying to open library...\tok\n",
      "Finding curand from Conda environment\n",
      "\tnamed  libcurand.so.10.1.1.243\n",
      "\ttrying to open library...\tok\n",
      "Finding nvvm from Conda environment\n",
      "\tnamed  libnvvm.so.3.3.0\n",
      "\ttrying to open library...\tok\n",
      "Finding libdevice from Conda environment\n",
      "\tsearching for compute_20...\tok\n",
      "\tsearching for compute_30...\tok\n",
      "\tsearching for compute_35...\tok\n",
      "\tsearching for compute_50...\tok\n",
      "\n",
      "\n",
      "__ROC information__\n",
      "ROC Available                                 : False\n",
      "ROC Toolchains                                : None\n",
      "HSA Agents Count                              : 0\n",
      "HSA Agents:\n",
      "None\n",
      "HSA Discrete GPUs Count                       : 0\n",
      "HSA Discrete GPUs                             : None\n",
      "\n",
      "__SVML Information__\n",
      "SVML State, config.USING_SVML                 : True\n",
      "SVML Library Loaded                           : True\n",
      "llvmlite Using SVML Patched LLVM              : True\n",
      "SVML Operational                              : True\n",
      "\n",
      "__Threading Layer Information__\n",
      "TBB Threading Layer Available                 : True\n",
      "+-->TBB imported successfully.\n",
      "OpenMP Threading Layer Available              : True\n",
      "+-->Vendor: GNU\n",
      "Workqueue Threading Layer Available           : True\n",
      "+-->Workqueue imported successfully.\n",
      "\n",
      "__Numba Environment Variable Information__\n",
      "None found.\n",
      "\n",
      "__Conda Information__\n",
      "Conda Build                                   : not installed\n",
      "Conda Env                                     : 4.8.3\n",
      "Conda Platform                                : linux-64\n",
      "Conda Python Version                          : 3.6.2.final.0\n",
      "Conda Root Writable                           : False\n",
      "\n",
      "__Installed Packages__\n",
      "_libgcc_mutex             0.1                        main  \n",
      "asn1crypto                1.3.0                    py36_0  \n",
      "backcall                  0.2.0                    pypi_0    pypi\n",
      "bokeh                     2.1.0                    pypi_0    pypi\n",
      "brotlipy                  0.7.0           py36h7b6447c_1000  \n",
      "ca-certificates           2020.6.20            hecda079_0    conda-forge\n",
      "cairo                     1.14.12              h8948797_3    anaconda\n",
      "certifi                   2020.6.20                py36_0  \n",
      "cffi                      1.14.0           py36h2e261b9_0  \n",
      "chardet                   3.0.4                 py36_1003  \n",
      "click                     7.1.2                    pypi_0    pypi\n",
      "cloudpickle               1.4.1                      py_0    anaconda\n",
      "conda                     4.8.3            py36h9f0ad1d_1    conda-forge\n",
      "conda-package-handling    1.6.1            py36h7b6447c_0  \n",
      "contextvars               2.4                      pypi_0    pypi\n",
      "cryptography              2.3.1            py36hc365091_0  \n",
      "cudatoolkit               10.1.243             h6bb024c_0  \n",
      "cudnn                     7.6.5                cuda10.1_0  \n",
      "cupy                      7.5.0            py36h5c369b2_0    conda-forge\n",
      "cycler                    0.10.0                   pypi_0    pypi\n",
      "cython                    0.29.20                  pypi_0    pypi\n",
      "cytoolz                   0.10.1           py36h7b6447c_0    anaconda\n",
      "dask                      2.2.0                    pypi_0    pypi\n",
      "dask-core                 2.19.0                     py_0    anaconda\n",
      "dbus                      1.13.12              h746ee38_0    anaconda\n",
      "decorator                 4.4.2                      py_0    anaconda\n",
      "distributed               2.2.0                    pypi_0    pypi\n",
      "docopt                    0.6.2                    pypi_0    pypi\n",
      "expat                     2.2.9                he6710b0_2  \n",
      "fastrlock                 0.5              py36h831f99a_0    conda-forge\n",
      "fontconfig                2.13.0               h9420a91_0    anaconda\n",
      "freetype                  2.10.2               h5ab3b9f_0    anaconda\n",
      "fribidi                   1.0.9                h7b6447c_0  \n",
      "fsspec                    0.7.4                    pypi_0    pypi\n",
      "glib                      2.56.2               hd408876_0    anaconda\n",
      "graphite2                 1.3.14               h23475e2_0  \n",
      "graphviz                  2.40.1               h21bd128_2    anaconda\n",
      "gst-plugins-base          1.14.0               hbbd80ab_1    anaconda\n",
      "gstreamer                 1.14.0               hb453b48_1    anaconda\n",
      "h5py                      2.10.0           py36h7918eee_0    anaconda\n",
      "harfbuzz                  1.8.8                hffaf4a1_0    anaconda\n",
      "hdf5                      1.10.4               hb1b8bf9_0    anaconda\n",
      "heapdict                  1.0.1                    pypi_0    pypi\n",
      "icc_rt                    2018.0.2                      0    numba\n",
      "icu                       58.2                 he6710b0_3    anaconda\n",
      "idna                      2.9                        py_1  \n",
      "imageio                   2.8.0                      py_0    anaconda\n",
      "immutables                0.14                     pypi_0    pypi\n",
      "intel-openmp              2020.1                      217  \n",
      "ipykernel                 5.3.0                    pypi_0    pypi\n",
      "ipyparallel               6.3.0                    pypi_0    pypi\n",
      "ipython                   7.15.0                   pypi_0    pypi\n",
      "ipython-genutils          0.2.0                    pypi_0    pypi\n",
      "jedi                      0.17.1                   pypi_0    pypi\n",
      "jinja2                    2.11.2                   pypi_0    pypi\n",
      "jpeg                      9b                   h024ee3a_2  \n",
      "jupyter-client            6.1.3                    pypi_0    pypi\n",
      "jupyter-core              4.6.3                    pypi_0    pypi\n",
      "kiwisolver                1.2.0            py36hfd86e86_0    anaconda\n",
      "libblas                   3.8.0                    15_mkl    conda-forge\n",
      "libcblas                  3.8.0                    15_mkl    conda-forge\n",
      "libedit                   3.1                  heed3624_0  \n",
      "libffi                    3.2.1                hd88cf55_4  \n",
      "libgcc-ng                 9.1.0                hdf63c60_0  \n",
      "libgfortran-ng            7.5.0                hdf63c60_6    conda-forge\n",
      "liblapack                 3.8.0                    15_mkl    conda-forge\n",
      "libpng                    1.6.37               hbc83047_0    anaconda\n",
      "libstdcxx-ng              9.1.0                hdf63c60_0  \n",
      "libtiff                   4.1.0                h2733197_1  \n",
      "libuuid                   1.0.3                h1bed415_2    anaconda\n",
      "libxcb                    1.13                 h1bed415_1    anaconda\n",
      "libxml2                   2.9.10               he19cac6_1  \n",
      "line-profiler             3.0.2                    pypi_0    pypi\n",
      "llvmlite                  0.33.0           py36hf484d3e_0    numba\n",
      "locket                    0.2.0                    pypi_0    pypi\n",
      "lz4-c                     1.9.2                he6710b0_0  \n",
      "markupsafe                1.1.1                    pypi_0    pypi\n",
      "matplotlib                3.2.2                         0  \n",
      "matplotlib-base           3.2.2            py36hef1b27d_0  \n",
      "memory-profiler           0.57.0                   pypi_0    pypi\n",
      "mkl                       2020.1                      217  \n",
      "msgpack                   0.6.1                    pypi_0    pypi\n",
      "nccl                      2.6.4.1              h51cf6c1_0    conda-forge\n",
      "ncurses                   6.0                  h9df7e31_2  \n",
      "networkx                  2.4                        py_0    anaconda\n",
      "numba                     0.50.0          np1.11py3.6h04863e7_gdbd7af905_0    numba\n",
      "numpy                     1.18.5           py36h7314795_0    conda-forge\n",
      "olefile                   0.46                     py36_0    anaconda\n",
      "openssl                   1.0.2u               h516909a_0    conda-forge\n",
      "packaging                 20.4                     pypi_0    pypi\n",
      "pandas                    1.0.5                    pypi_0    pypi\n",
      "pango                     1.42.4               h049681c_0    anaconda\n",
      "parso                     0.7.0                    pypi_0    pypi\n",
      "partd                     1.1.0                    pypi_0    pypi\n",
      "pcre                      8.44                 he6710b0_0  \n",
      "pexpect                   4.8.0                    pypi_0    pypi\n",
      "pickleshare               0.7.5                    pypi_0    pypi\n",
      "pillow                    7.1.2            py36hb39fc2d_0    anaconda\n",
      "pip                       20.1.1                   py36_1  \n",
      "pixman                    0.40.0               h7b6447c_0  \n",
      "prompt-toolkit            3.0.5                    pypi_0    pypi\n",
      "psutil                    5.7.0                    pypi_0    pypi\n",
      "ptyprocess                0.6.0                    pypi_0    pypi\n",
      "pycosat                   0.6.3            py36h7b6447c_0  \n",
      "pycparser                 2.20                       py_0  \n",
      "pygments                  2.6.1                    pypi_0    pypi\n",
      "pyopenssl                 19.0.0                   py36_0  \n",
      "pyparsing                 2.4.7                      py_0    anaconda\n",
      "pyqt                      5.9.2            py36h22d08a2_1    anaconda\n",
      "pysocks                   1.7.1                    py36_0  \n",
      "python                    3.6.2               hca45abc_19  \n",
      "python-dateutil           2.8.1                      py_0    anaconda\n",
      "python-graphviz           0.14               pyh9f0ad1d_0    conda-forge\n",
      "python_abi                3.6                     1_cp36m    conda-forge\n",
      "pytz                      2020.1                   pypi_0    pypi\n",
      "pywavelets                1.1.1            py36h7b6447c_0    anaconda\n",
      "pyyaml                    5.3.1                    pypi_0    pypi\n",
      "pyzmq                     19.0.1                   pypi_0    pypi\n",
      "qt                        5.9.6                h52aff34_0    anaconda\n",
      "readline                  7.0                  ha6073c6_4  \n",
      "requests                  2.24.0                     py_0  \n",
      "ruamel_yaml               0.15.87          py36h7b6447c_1  \n",
      "scikit-image              0.16.2           py36h0573a6f_0    anaconda\n",
      "scipy                     1.5.0            py36h2d22cac_0    conda-forge\n",
      "setuptools                47.3.1                   py36_0  \n",
      "sip                       4.19.23          py36he6710b0_0  \n",
      "six                       1.15.0                     py_0  \n",
      "sortedcontainers          2.2.2                    pypi_0    pypi\n",
      "sqlite                    3.23.1               he433501_0  \n",
      "tbb                       2020.0               hfd86e86_0  \n",
      "tblib                     1.6.0                    pypi_0    pypi\n",
      "tk                        8.6.10               hbc83047_0  \n",
      "toolz                     0.10.0                     py_0    anaconda\n",
      "tornado                   6.0.3                    pypi_0    pypi\n",
      "tqdm                      4.46.1                     py_0  \n",
      "traitlets                 4.3.3                    pypi_0    pypi\n",
      "typing-extensions         3.7.4.2                  pypi_0    pypi\n",
      "urllib3                   1.25.9                     py_0  \n",
      "wcwidth                   0.2.4                    pypi_0    pypi\n",
      "wheel                     0.34.2                   py36_0  \n",
      "xz                        5.2.5                h7b6447c_0  \n",
      "yaml                      0.2.5                h7b6447c_0  \n",
      "zict                      2.0.0                    pypi_0    pypi\n",
      "zlib                      1.2.11               h7b6447c_3  \n",
      "zstd                      1.4.4                h0b5b093_3  \n",
      "\n",
      "No errors reported.\n",
      "\n",
      "\n",
      "__Warning log__\n",
      "Warning (roc): Error initialising ROC: No ROC toolchains found.\n",
      "Warning (roc): No HSA Agents found, encountered exception when searching: Error at driver init: \n",
      "NUMBA_HSA_DRIVER /opt/rocm/lib/libhsa-runtime64.so is not a valid file path.  Note it must be a filepath of the .so/.dll/.dylib or the driver:\n",
      "Warning (no file): /sys/fs/cgroup/cpuacct/cpu.cfs_quota_us\n",
      "Warning (no file): /sys/fs/cgroup/cpuacct/cpu.cfs_period_us\n",
      "--------------------------------------------------------------------------------\n",
      "If requested, please copy and paste the information between\n",
      "the dashed (----) lines, or from a given specific section as\n",
      "appropriate.\n",
      "\n",
      "=============================================================\n",
      "IMPORTANT: Please ensure that you are happy with sharing the\n",
      "contents of the information present, any information that you\n",
      "wish to keep private you should remove before sharing.\n",
      "=============================================================\n",
      "\n"
     ]
    }
   ],
   "source": [
    "!numba -s"
   ]
  },
  {
   "cell_type": "code",
   "execution_count": null,
   "metadata": {},
   "outputs": [],
   "source": []
  }
 ],
 "metadata": {
  "kernelspec": {
   "display_name": "pyhpc2020",
   "language": "python",
   "name": "pyhpc2020"
  },
  "language_info": {
   "codemirror_mode": {
    "name": "ipython",
    "version": 3
   },
   "file_extension": ".py",
   "mimetype": "text/x-python",
   "name": "python",
   "nbconvert_exporter": "python",
   "pygments_lexer": "ipython3",
   "version": "3.6.2"
  }
 },
 "nbformat": 4,
 "nbformat_minor": 4
}
