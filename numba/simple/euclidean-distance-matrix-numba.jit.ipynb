{
 "cells": [
  {
   "cell_type": "markdown",
   "metadata": {},
   "source": [
    "# Using `numba.jit` to speedup the computation of the Euclidean distance matrix \n",
    "\n",
    "In this notebook we implement a function to compute the Euclidean distance matrix using Numba's *just-in-time* compilation decorator. We compare it with the NumPy function we wrote before.\n",
    "\n",
    "We will use two Numba functions here: The decorator ` @numba.jit` and `numba.prange`."
   ]
  },
  {
   "cell_type": "code",
   "execution_count": 1,
   "metadata": {},
   "outputs": [],
   "source": [
    "import numpy as np\n",
    "import numba"
   ]
  },
  {
   "cell_type": "code",
   "execution_count": 10,
   "metadata": {},
   "outputs": [],
   "source": [
    "@numba.jit(nopython=True)\n",
    "def euclidean_numba1(x, y):\n",
    "    \"\"\"Euclidean square distance matrix using pure loops\n",
    "    and no NumPy operations\n",
    "    \"\"\"\n",
    "    num_samples, num_feat = x.shape\n",
    "    dist_matrix = np.zeros((num_samples, num_samples))\n",
    "    for i in range(num_samples):\n",
    "        for j in range(num_samples):\n",
    "            r = 0.0\n",
    "            for k in numba.prange(num_feat):\n",
    "                r += (x[i][k] - y[j][k])**2\n",
    "            dist_matrix[i][j] = r\n",
    "\n",
    "    return dist_matrix\n",
    "\n",
    "\n",
    "@numba.jit(nopython=True)\n",
    "def euclidean_numba2(x, y):\n",
    "    \"\"\"Euclidean square distance matrix using loops\n",
    "    and the `numpy.dot` operation\n",
    "    \"\"\"\n",
    "    num_samples, num_feat = x.shape\n",
    "    dist_matrix = np.zeros((num_samples, num_samples))\n",
    "    for i in range(num_samples):\n",
    "        for j in numba.prange(num_samples):\n",
    "            dist_matrix[i][j] = ((x[i] - y[j])**2).sum()\n",
    "\n",
    "    return dist_matrix"
   ]
  },
  {
   "cell_type": "markdown",
   "metadata": {},
   "source": [
    "Let's include here our numpy implementation for comparison."
   ]
  },
  {
   "cell_type": "code",
   "execution_count": 2,
   "metadata": {},
   "outputs": [],
   "source": [
    "def euclidean_numpy(x, y):\n",
    "    \"\"\"Euclidean square distance matrix.\n",
    "    \n",
    "    Inputs:\n",
    "    x: (N, m) numpy array\n",
    "    y: (N, m) numpy array\n",
    "    \n",
    "    Ouput:\n",
    "    (N, N) Euclidean square distance matrix:\n",
    "    r_ij = x_ij^2 - y_ij^2\n",
    "    \"\"\"\n",
    "\n",
    "    x2 = np.einsum('ij,ij->i', x, x)[:, np.newaxis]\n",
    "    y2 = np.einsum('ij,ij->i', y, y)[:, np.newaxis].T\n",
    "\n",
    "    xy = np.dot(x, y.T)\n",
    "\n",
    "    return np.abs(x2 + y2 - 2. * xy)"
   ]
  },
  {
   "cell_type": "markdown",
   "metadata": {},
   "source": [
    "### Note\n",
    "Observe that we do the inner loop, which is a reduction, with `numba.prange`. `numba.prange` automatically takes care of data privatization and reductions."
   ]
  },
  {
   "cell_type": "markdown",
   "metadata": {},
   "source": [
    "### Exercise 1\n",
    "Before runing the different functions, could you say which of the two numba implementations would be faster?"
   ]
  },
  {
   "cell_type": "code",
   "execution_count": 11,
   "metadata": {},
   "outputs": [
    {
     "name": "stdout",
     "output_type": "stream",
     "text": [
      "3.410605131648481e-13\n",
      "3.410605131648481e-13\n"
     ]
    }
   ],
   "source": [
    "# Let's check that they all give the same result\n",
    "a = 10. * np.random.random([100, 10])\n",
    "\n",
    "print(np.abs(euclidean_numpy(a, a) - euclidean_numba1(a, a)).max())\n",
    "print(np.abs(euclidean_numpy(a, a) - euclidean_numba2(a, a)).max())"
   ]
  },
  {
   "cell_type": "markdown",
   "metadata": {},
   "source": [
    "Our Numba implementations can be faster than the NumPy one for a list of small vectors. However, with larger vectors, the NumPy implementation is faster:"
   ]
  },
  {
   "cell_type": "code",
   "execution_count": 5,
   "metadata": {},
   "outputs": [
    {
     "name": "stdout",
     "output_type": "stream",
     "text": [
      "71.2 µs ± 650 ns per loop (mean ± std. dev. of 7 runs, 10000 loops each)\n",
      "28.4 µs ± 522 ns per loop (mean ± std. dev. of 7 runs, 10000 loops each)\n",
      "1.44 ms ± 36.1 µs per loop (mean ± std. dev. of 7 runs, 1000 loops each)\n"
     ]
    }
   ],
   "source": [
    "nsamples = 100\n",
    "nfeat = 3\n",
    "\n",
    "x = 10. * np.random.random([nsamples, nfeat])\n",
    "\n",
    "%timeit euclidean_numpy(x, x)\n",
    "%timeit euclidean_numba1(x, x)\n",
    "%timeit euclidean_numba2(x, x)"
   ]
  },
  {
   "cell_type": "code",
   "execution_count": 6,
   "metadata": {},
   "outputs": [
    {
     "name": "stdout",
     "output_type": "stream",
     "text": [
      "89 µs ± 8.32 µs per loop (mean ± std. dev. of 7 runs, 10000 loops each)\n",
      "427 µs ± 5.75 µs per loop (mean ± std. dev. of 7 runs, 1000 loops each)\n",
      "1.96 ms ± 11.2 µs per loop (mean ± std. dev. of 7 runs, 1000 loops each)\n"
     ]
    }
   ],
   "source": [
    "nsamples = 100\n",
    "nfeat = 50\n",
    "\n",
    "x = 10. * np.random.random([nsamples, nfeat])\n",
    "\n",
    "%timeit euclidean_numpy(x, x)\n",
    "%timeit euclidean_numba1(x, x)\n",
    "%timeit euclidean_numba2(x, x)"
   ]
  },
  {
   "cell_type": "markdown",
   "metadata": {},
   "source": [
    "In a more realistic case, our NumPy implementation is much faster:"
   ]
  },
  {
   "cell_type": "code",
   "execution_count": 7,
   "metadata": {},
   "outputs": [
    {
     "name": "stdout",
     "output_type": "stream",
     "text": [
      "201 ms ± 1.56 ms per loop (mean ± std. dev. of 7 runs, 1 loop each)\n",
      "1.15 s ± 40.2 ms per loop (mean ± std. dev. of 7 runs, 1 loop each)\n"
     ]
    }
   ],
   "source": [
    "nsamples = 5000\n",
    "nfeat = 50\n",
    "\n",
    "x = 10. * np.random.random([nsamples, nfeat])\n",
    "\n",
    "%timeit euclidean_numpy(x, x)\n",
    "%timeit euclidean_numba1(x, x)"
   ]
  }
 ],
 "metadata": {
  "kernelspec": {
   "display_name": "Python 3",
   "language": "python",
   "name": "python3"
  },
  "language_info": {
   "codemirror_mode": {
    "name": "ipython",
    "version": 3
   },
   "file_extension": ".py",
   "mimetype": "text/x-python",
   "name": "python",
   "nbconvert_exporter": "python",
   "pygments_lexer": "ipython3",
   "version": "3.6.2"
  }
 },
 "nbformat": 4,
 "nbformat_minor": 4
}
