{
 "cells": [
  {
   "cell_type": "markdown",
   "metadata": {},
   "source": [
    "# Multithreaded Cityblock distance matrix function with SciPy and Dask's delayed execution\n",
    "\n",
    "In this notebook we the function `scipy.spatial.distance.cdist` to compute the cityblock distance matrix. Althought this function is quite fast, it uses a single thread.\n",
    "In cases like this one, it might be convenient to implement a multithreaded version of the function by parallelicing the execution over chunks of data.\n",
    "\n",
    "We have already written the chunk-based computation on this notebook, but it is missing the parallelization. This chunk-based calculation is kind of pointless wihtout the parallelization: Use `dask.delayed` to compute all chunks in parallel and speed up the calculation.\n",
    "\n",
    "The notebook has no indications of where the modifications need to be done. Just follow the cells and identify what needs to be changed."
   ]
  },
  {
   "cell_type": "code",
   "execution_count": 1,
   "metadata": {},
   "outputs": [],
   "source": [
    "import numpy as np\n",
    "from scipy.spatial.distance import cdist\n",
    "from dask import compute, delayed, visualize"
   ]
  },
  {
   "cell_type": "code",
   "execution_count": 2,
   "metadata": {},
   "outputs": [],
   "source": [
    "nsamples = 12000\n",
    "nfeat = 50\n",
    "\n",
    "x = 10. * np.random.random([nsamples, nfeat])"
   ]
  },
  {
   "cell_type": "markdown",
   "metadata": {},
   "source": [
    "Let's time the `cdist` function and look the `top` command."
   ]
  },
  {
   "cell_type": "code",
   "execution_count": 3,
   "metadata": {},
   "outputs": [
    {
     "name": "stdout",
     "output_type": "stream",
     "text": [
      "3.96 s ± 263 ms per loop (mean ± std. dev. of 7 runs, 1 loop each)\n"
     ]
    }
   ],
   "source": [
    "# observe here that the funcion `cdist` used to get the cityblock distance\n",
    "# is not multithreaded\n",
    "\n",
    "%timeit cdist(x, x, 'cityblock')"
   ]
  },
  {
   "cell_type": "markdown",
   "metadata": {},
   "source": [
    "With the `top` command we see that `cdist` runs in a single thread. In such cases it could be quite simple write a distributed version of the function. We can do this very easily with `dask.delayed`!"
   ]
  },
  {
   "cell_type": "markdown",
   "metadata": {},
   "source": [
    "## Dask's async delayed execution\n",
    "A simple distributed version of `cdist` can be done as the following:\n",
    "  * Split the array of vectors into chunks. We can use `np.split(x, num_chunks)`\n",
    "  * Compute partial cityblock distance matrices of the complete array with respect to each of the chunks\n",
    "  * Concatenate the resulting list into a single cityblock distance matrix.\n",
    "\n",
    "Note that concatenation is not a fast operation, so probably we will have to continue improving our function."
   ]
  },
  {
   "cell_type": "code",
   "execution_count": 4,
   "metadata": {},
   "outputs": [],
   "source": [
    "# define the list of operations to be performed asynchronously\n",
    "chunks = 12  # we choose on chunk for physical cpu (gpu partition)\n",
    "partial_distances = [cdist(x, xi, 'cityblock') for xi in np.split(x, chunks)]"
   ]
  },
  {
   "cell_type": "code",
   "execution_count": 5,
   "metadata": {},
   "outputs": [],
   "source": [
    "# visualize the computational graph until this point"
   ]
  },
  {
   "cell_type": "code",
   "execution_count": 6,
   "metadata": {},
   "outputs": [],
   "source": [
    "cbdm = np.concatenate(partial_distances, axis=1)"
   ]
  },
  {
   "cell_type": "code",
   "execution_count": 7,
   "metadata": {},
   "outputs": [],
   "source": [
    "# visualize the computational graph"
   ]
  },
  {
   "cell_type": "markdown",
   "metadata": {},
   "source": [
    "At this point, you should have the computational graph already defined. Let's run and time the compute step. We may go a shell and run the command `top`. Now you should see that the computation is executed in parallel resulting in a shorter execution time."
   ]
  },
  {
   "cell_type": "code",
   "execution_count": 8,
   "metadata": {},
   "outputs": [],
   "source": [
    "#time and run the computational graph"
   ]
  },
  {
   "cell_type": "code",
   "execution_count": 9,
   "metadata": {},
   "outputs": [
    {
     "data": {
      "text/plain": [
       "0.0"
      ]
     },
     "execution_count": 9,
     "metadata": {},
     "output_type": "execute_result"
    }
   ],
   "source": [
    "# check that the resulting matrices are the same\n",
    "np.abs(cbdm - cdist(x, x, 'cityblock')).max()"
   ]
  },
  {
   "cell_type": "markdown",
   "metadata": {},
   "source": [
    "A problem with this solution, as mentioned above, is that `np.concatenate` is not  a fast operation.\n",
    "Let's check how much time it takes without the concatenation part:"
   ]
  },
  {
   "cell_type": "code",
   "execution_count": 10,
   "metadata": {},
   "outputs": [],
   "source": [
    "# time and run the computational graph without the concatenate part"
   ]
  },
  {
   "cell_type": "markdown",
   "metadata": {},
   "source": [
    "Let's implement the whole thing as a single function:"
   ]
  },
  {
   "cell_type": "code",
   "execution_count": 11,
   "metadata": {},
   "outputs": [],
   "source": [
    "# Implementing the whole thing as a single function\n",
    "def cityblock_dask_concat(x, y, chunks):\n",
    "    \"\"\"Implementation using array concatenation\"\"\""
   ]
  },
  {
   "cell_type": "code",
   "execution_count": 13,
   "metadata": {},
   "outputs": [],
   "source": [
    "# check that the resulting matrices are the same\n",
    "# print(np.abs(cityblock_dask_concat(x, x, chunks) - cdist(x, x, 'cityblock')).max())"
   ]
  },
  {
   "cell_type": "markdown",
   "metadata": {},
   "source": [
    "# Questions\n",
    " * Why is relevant for this implementation that `scipy.spatial.distance.cdist` is not multithreaded?"
   ]
  }
 ],
 "metadata": {
  "kernelspec": {
   "display_name": "Python 3",
   "language": "python",
   "name": "python3"
  },
  "language_info": {
   "codemirror_mode": {
    "name": "ipython",
    "version": 3
   },
   "file_extension": ".py",
   "mimetype": "text/x-python",
   "name": "python",
   "nbconvert_exporter": "python",
   "pygments_lexer": "ipython3",
   "version": "3.6.2"
  }
 },
 "nbformat": 4,
 "nbformat_minor": 4
}
