{
 "cells": [
  {
   "cell_type": "markdown",
   "metadata": {},
   "source": [
    "<h1><center>GPU Computing with CuPy</center></h1>"
   ]
  },
  {
   "cell_type": "code",
   "execution_count": null,
   "metadata": {},
   "outputs": [],
   "source": [
    "import numpy as np\n",
    "import cupy as cp\n",
    "import matplotlib.pyplot as plt\n",
    "# cp.cuda.set_allocator(None) # You can disable CuPy memory pool with this \n",
    "%load_ext Cython"
   ]
  },
  {
   "cell_type": "code",
   "execution_count": null,
   "metadata": {},
   "outputs": [],
   "source": [
    "from contextlib import contextmanager\n",
    "from time import time\n",
    "\n",
    "@contextmanager\n",
    "def cupy_timer():\n",
    "    start = cp.cuda.Event()\n",
    "    end = cp.cuda.Event()\n",
    "    start.record()\n",
    "    yield\n",
    "    end.record()\n",
    "    end.synchronize()\n",
    "    elapsed_time = cp.cuda.get_elapsed_time(start, end)\n",
    "    print(f'Elapsed time: {elapsed_time} ms')\n",
    "    \n",
    "\n",
    "@contextmanager\n",
    "def cpu_timer():\n",
    "    start = time()\n",
    "    yield\n",
    "    end = time()\n",
    "    print(f'Elapsed time: {(end - start) * 1000} ms')"
   ]
  },
  {
   "cell_type": "markdown",
   "metadata": {},
   "source": [
    "<h2><center>Matrix Multiplication NumPy vs CuPy</center></h2>"
   ]
  },
  {
   "cell_type": "code",
   "execution_count": null,
   "metadata": {},
   "outputs": [],
   "source": [
    "x_cpu = np.random.random((1000, 1000))\n",
    "y_cpu = np.random.random((1000, 1000))\n",
    "x_gpu = cp.array(x_cpu)\n",
    "y_gpu = cp.array(y_cpu)\n",
    "\n",
    "with cpu_timer():\n",
    "    z_cpu = x_cpu @ y_cpu\n",
    "\n",
    "with cupy_timer():\n",
    "    z_gpu = x_gpu @ y_gpu"
   ]
  },
  {
   "cell_type": "markdown",
   "metadata": {},
   "source": [
    "<h2><center>Linear System Solving NumPy vs CuPy</center></h2>"
   ]
  },
  {
   "cell_type": "code",
   "execution_count": null,
   "metadata": {},
   "outputs": [],
   "source": [
    "A_cpu = np.random.random((1000, 1000))\n",
    "b_cpu = np.random.random(1000)\n",
    "A_gpu = cp.array(A_cpu)\n",
    "b_gpu = cp.array(b_cpu)\n",
    "with cpu_timer():\n",
    "    np.linalg.solve(A_cpu, b_cpu)\n",
    "    \n",
    "with cupy_timer():\n",
    "    cp.linalg.solve(A_gpu, b_gpu)"
   ]
  },
  {
   "cell_type": "markdown",
   "metadata": {},
   "source": [
    "<h2><center>Euclidean distance matrix</center></h2>\n",
    "\n",
    "<center>\n",
    "$\n",
    "    d_e(\\mathbf x, \\mathbf y) =\n",
    "    \\begin{bmatrix}\n",
    "    \\sum_{i=1}^n (x_{1i}-y_{1i})^2 & \\sum_{i=1}^n(x_{1i}-y_{2i})^2 & \\cdots & \\sum_{i=1}^n (x_{1i}-y_{ni})^2 \\\\  \n",
    "    \\sum_{i=1}^n(x_{2i}-y_{1i})^2 & \\sum_{i=1}^n(x_{2i}-y_{2i})^2 & \\cdots & \\sum_{i=1}^n(x_{2i}-y_{ni})^2 \\\\  \n",
    "    \\vdots & \\vdots & \\ddots & \\vdots \\\\\n",
    "    \\sum_{i=1}^n(x_{ni}-y_{1i})^2 & \\sum_{i=1}^n(x_{ni}-y_{2i})^2 & \\cdots & \\sum_{i=1}^n(x_{ni}-y_{ni})^2 \\\\  \n",
    "    \\end{bmatrix}\n",
    "$\n",
    "<bf>\n",
    "</center>\n",
    "<h2><center>Vectorization friendly summation<center></h2>\n",
    "<center>\n",
    "$ \n",
    "\\sum_{k=1}^n \\left(x_{ik}-y_{ik}\\right)^2 = \\left(\\vec{x_i} - \\vec {y_j}\\right)\\cdot \\left(\\vec{x_i} - \\vec{y_j}\\right)=\\vec{x_i} \\cdot \\vec{x_i} + \\vec{y_j} \\cdot \\vec{y_j} \\cdot \\vec{y_j}-2\\vec{x_i}\\cdot \\vec{y_j}$\n",
    "</center>"
   ]
  },
  {
   "cell_type": "code",
   "execution_count": null,
   "metadata": {},
   "outputs": [],
   "source": [
    "def euclidean_distance_cpu(x, y):\n",
    "    x2 = np.einsum('ij,ij->i', x, x)[:, np.newaxis]\n",
    "    y2 = np.einsum('ij,ij->i', y, y)[:, np.newaxis].T\n",
    "    xy = x @ y.T\n",
    "    return np.abs(x2 + y2 - 2.0 * xy)"
   ]
  },
  {
   "cell_type": "code",
   "execution_count": null,
   "metadata": {},
   "outputs": [],
   "source": [
    "def euclidean_distance_gpu(x, y):\n",
    "    x2 = cp.einsum('ij,ij->i', x, x)[:, cp.newaxis]\n",
    "    y2 = cp.einsum('ij,ij->i', y, y)[:, cp.newaxis].T\n",
    "    xy = x @ y.T\n",
    "    return cp.abs(x2 + y2 - 2.0 * xy)"
   ]
  },
  {
   "cell_type": "code",
   "execution_count": null,
   "metadata": {},
   "outputs": [],
   "source": [
    "x_cpu = np.random.random((5000, 5000))\n",
    "y_cpu = np.random.random((5000, 5000))\n",
    "x_gpu = cp.array(x_cpu)\n",
    "y_gpu = cp.array(y_cpu)\n",
    "\n",
    "with cpu_timer():\n",
    "    eu_cpu = euclidean_distance_cpu(x_cpu, y_cpu)\n",
    "\n",
    "with cupy_timer():\n",
    "    eu_gpu = euclidean_distance_gpu(x_gpu, y_gpu)\n",
    "    \n",
    "print(np.allclose(eu_cpu, eu_gpu.get()))"
   ]
  },
  {
   "cell_type": "markdown",
   "metadata": {},
   "source": [
    "<h2><center>Make function work for both CuPy/NumPy</center></h2>"
   ]
  },
  {
   "cell_type": "code",
   "execution_count": null,
   "metadata": {},
   "outputs": [],
   "source": [
    "def euclidean_distance(x, y):\n",
    "    modp = cp.get_array_module(x)\n",
    "    x2 = modp.einsum('ij,ij->i', x, x)[:, modp.newaxis]\n",
    "    y2 = modp.einsum('ij,ij->i', y, y)[:, modp.newaxis].T\n",
    "    xy = x @ y.T\n",
    "    return modp.abs(x2 + y2 - 2.0 * xy)"
   ]
  },
  {
   "cell_type": "code",
   "execution_count": null,
   "metadata": {},
   "outputs": [],
   "source": [
    "with cpu_timer():\n",
    "    eu_cpu = euclidean_distance(x_cpu, y_cpu)\n",
    "\n",
    "with cupy_timer():\n",
    "    eu_gpu = euclidean_distance(x_gpu, y_gpu)\n",
    "    \n",
    "print(np.allclose(eu_cpu, eu_gpu.get()))"
   ]
  },
  {
   "cell_type": "markdown",
   "metadata": {},
   "source": [
    "<h2><center>Calculating/Plotting Julia Sets</center></h2>"
   ]
  },
  {
   "cell_type": "code",
   "execution_count": null,
   "metadata": {},
   "outputs": [],
   "source": [
    "X, Y = np.meshgrid(np.linspace(-2.0 , 2.0, 5000), np.linspace(-2.0, 2.0, 5000))\n",
    "Z_cpu = X + Y * 1j\n",
    "Z_gpu = cp.array(Z_cpu)"
   ]
  },
  {
   "cell_type": "code",
   "execution_count": null,
   "metadata": {},
   "outputs": [],
   "source": [
    "def julia_set_naive(Z, c, iter_max):\n",
    "    julia = np.zeros_like(Z, dtype=np.int32)\n",
    "    radius = max(np.abs(c), 2.0)\n",
    "    nx, ny = Z.shape\n",
    "    for i in range(nx):\n",
    "        for j in range(ny):\n",
    "            z = Z[i, j]\n",
    "            k = 0\n",
    "            while np.abs(z) < radius and k < iter_max:\n",
    "                z = z ** 2 + c\n",
    "                k += 1\n",
    "            julia[i, j] = k\n",
    "    return julia"
   ]
  },
  {
   "cell_type": "code",
   "execution_count": null,
   "metadata": {},
   "outputs": [],
   "source": [
    "%%cython -a\n",
    "\n",
    "# distutils: extra_compile_args = -fopenmp -march=native\n",
    "# distutils: extra_link_args = -fopenmp\n",
    "from cython cimport boundscheck, wraparound\n",
    "from cython.parallel cimport prange\n",
    "\n",
    "@boundscheck(False)\n",
    "@wraparound(False)\n",
    "def julia_set_cython(const double complex[:, :] Z, const double complex c,\n",
    "                       const int iter_max, const double radius, \n",
    "                       int[:, :] julia):\n",
    "    cdef:\n",
    "        int i, j, k, nx, ny\n",
    "        double complex z\n",
    "    nx = Z.shape[0]\n",
    "    ny = Z.shape[1]\n",
    "    for i in prange(nx, nogil=True, schedule='static'):\n",
    "        for j in range(ny):\n",
    "            z = Z[i, j]\n",
    "            k = 0\n",
    "            while abs(z) < radius and k < iter_max:\n",
    "                z = z * z + c\n",
    "                k = k + 1\n",
    "                \n",
    "            julia[i, j] = k "
   ]
  },
  {
   "cell_type": "code",
   "execution_count": null,
   "metadata": {},
   "outputs": [],
   "source": [
    "fig = plt.figure(figsize=(10, 10))\n",
    "ax = fig.add_subplot(111)\n",
    "julia = np.zeros_like(Z_cpu, dtype=np.int32)\n",
    "c = -0.9 + 0.22143j\n",
    "radius = max(abs(c), 2.0)\n",
    "with cpu_timer():\n",
    "    julia_set_cython(Z_cpu, c, 1000, radius, julia)\n",
    "ax.set_aspect('equal')\n",
    "ax.imshow(julia, extent=[-2, 2, -2, 2]);"
   ]
  },
  {
   "cell_type": "code",
   "execution_count": null,
   "metadata": {},
   "outputs": [],
   "source": [
    "julia_kernel = cp.ElementwiseKernel('complex128 z, complex128 c, int32 itermax, float64 radius',\n",
    "                                    'int32 julia',\n",
    "                                    f'''julia = 0;\n",
    "                                    complex<double> zz = z;\n",
    "                                    int nit = 0;\n",
    "                                    while(abs(zz) < radius && nit < itermax) {{\n",
    "                                        zz = zz * zz + c;\n",
    "                                        nit += 1;\n",
    "                                    }}\n",
    "                                    julia = nit;''', 'julia_kernel')"
   ]
  },
  {
   "cell_type": "code",
   "execution_count": null,
   "metadata": {},
   "outputs": [],
   "source": [
    "fig = plt.figure(figsize=(10, 10))\n",
    "ax = fig.add_subplot(111)\n",
    "c = -0.9 + 0.22143j\n",
    "with cupy_timer():\n",
    "    Z_gpu = cp.array(Z_cpu)\n",
    "    julia_gpu = julia_kernel(Z_gpu, c, 1000, radius)\n",
    "    julia_array = julia_gpu.get()\n",
    "ax.set_aspect('equal')\n",
    "ax.imshow(julia_array, extent=[-2, 2, -2, 2]);"
   ]
  },
  {
   "cell_type": "code",
   "execution_count": null,
   "metadata": {},
   "outputs": [],
   "source": [
    "julia.sum(), julia_gpu.sum() # Compute sum to validate"
   ]
  },
  {
   "cell_type": "markdown",
   "metadata": {},
   "source": [
    "<h2><center>CuPy Memory Pools</center></h2>"
   ]
  },
  {
   "cell_type": "code",
   "execution_count": null,
   "metadata": {},
   "outputs": [],
   "source": [
    "!nvidia-smi #"
   ]
  },
  {
   "cell_type": "code",
   "execution_count": null,
   "metadata": {},
   "outputs": [],
   "source": [
    "%whos "
   ]
  },
  {
   "cell_type": "code",
   "execution_count": null,
   "metadata": {},
   "outputs": [],
   "source": [
    "mempool = cp.get_default_memory_pool()"
   ]
  },
  {
   "cell_type": "code",
   "execution_count": null,
   "metadata": {},
   "outputs": [],
   "source": [
    "print(mempool.used_bytes(), mempool.total_bytes())"
   ]
  }
 ],
 "metadata": {
  "kernelspec": {
   "display_name": "Python 3",
   "language": "python",
   "name": "python3"
  },
  "language_info": {
   "codemirror_mode": {
    "name": "ipython",
    "version": 3
   },
   "file_extension": ".py",
   "mimetype": "text/x-python",
   "name": "python",
   "nbconvert_exporter": "python",
   "pygments_lexer": "ipython3",
   "version": "3.6.5"
  }
 },
 "nbformat": 4,
 "nbformat_minor": 4
}
