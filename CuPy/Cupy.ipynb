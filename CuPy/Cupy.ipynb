{
 "cells": [
  {
   "cell_type": "markdown",
   "metadata": {},
   "source": [
    "# GPU Computing with CuPy"
   ]
  },
  {
   "cell_type": "code",
   "execution_count": null,
   "metadata": {},
   "outputs": [],
   "source": [
    "import numpy as np\n",
    "import cupy as cp\n",
    "import matplotlib.pyplot as plt\n",
    "# cp.cuda.set_allocator(None) # You can disable CuPy memory pool with this \n",
    "%load_ext Cython"
   ]
  },
  {
   "cell_type": "code",
   "execution_count": null,
   "metadata": {},
   "outputs": [],
   "source": [
    "from contextlib import contextmanager\n",
    "from time import time\n",
    "\n",
    "@contextmanager\n",
    "def cupy_timer():\n",
    "    start = cp.cuda.Event()\n",
    "    end = cp.cuda.Event()\n",
    "    start.record()\n",
    "    yield\n",
    "    end.record()\n",
    "    end.synchronize()\n",
    "    elapsed_time = cp.cuda.get_elapsed_time(start, end)\n",
    "    print(f'Elapsed time: {elapsed_time} ms')\n",
    "    \n",
    "\n",
    "@contextmanager\n",
    "def cpu_timer():\n",
    "    start = time()\n",
    "    yield\n",
    "    end = time()\n",
    "    print(f'Elapsed time: {(end - start) * 1000} ms')"
   ]
  },
  {
   "cell_type": "markdown",
   "metadata": {},
   "source": [
    "## Matrix Multiplication NumPy vs CuPy"
   ]
  },
  {
   "cell_type": "code",
   "execution_count": null,
   "metadata": {},
   "outputs": [],
   "source": [
    "x_cpu = np.random.random((1000, 1000))\n",
    "y_cpu = np.random.random((1000, 1000))\n",
    "x_gpu = cp.array(x_cpu)\n",
    "y_gpu = cp.array(y_cpu)\n",
    "\n",
    "with cpu_timer():\n",
    "    z_cpu = x_cpu @ y_cpu\n",
    "\n",
    "with cupy_timer():\n",
    "    z_gpu = x_gpu @ y_gpu"
   ]
  },
  {
   "cell_type": "markdown",
   "metadata": {},
   "source": [
    "## Linear System Solving NumPy vs CuPy"
   ]
  },
  {
   "cell_type": "code",
   "execution_count": null,
   "metadata": {},
   "outputs": [],
   "source": [
    "A_cpu = np.random.random((1000, 1000))\n",
    "b_cpu = np.random.random(1000)\n",
    "A_gpu = cp.array(A_cpu)\n",
    "b_gpu = cp.array(b_cpu)\n",
    "with cpu_timer():\n",
    "    np.linalg.solve(A_cpu, b_cpu)\n",
    "    \n",
    "with cupy_timer():\n",
    "    cp.linalg.solve(A_gpu, b_gpu)"
   ]
  },
  {
   "cell_type": "markdown",
   "metadata": {},
   "source": [
    "## Euclidean distance matrix\n",
    "\n",
    "$\n",
    "    d_e(\\mathbf x, \\mathbf y) =\n",
    "    \\begin{bmatrix}\n",
    "    \\sum_{i=1}^n (x_{1i}-y_{1i})^2 & \\sum_{i=1}^n(x_{1i}-y_{2i})^2 & \\cdots & \\sum_{i=1}^n (x_{1i}-y_{ni})^2 \\\\  \n",
    "    \\sum_{i=1}^n(x_{2i}-y_{1i})^2 & \\sum_{i=1}^n(x_{2i}-y_{2i})^2 & \\cdots & \\sum_{i=1}^n(x_{2i}-y_{ni})^2 \\\\  \n",
    "    \\vdots & \\vdots & \\ddots & \\vdots \\\\\n",
    "    \\sum_{i=1}^n(x_{ni}-y_{1i})^2 & \\sum_{i=1}^n(x_{ni}-y_{2i})^2 & \\cdots & \\sum_{i=1}^n(x_{ni}-y_{ni})^2 \\\\  \n",
    "    \\end{bmatrix}\n",
    "$\n",
    "\n",
    "## Vectorization friendly summation \n",
    "$ \n",
    "\\sum_{k=1}^n \\left(x_{ik}-y_{ik}\\right)^2 = \\left(\\vec{x_i} - \\vec {y_j}\\right)\\cdot \\left(\\vec{x_i} - \\vec{y_j}\\right)=\\vec{x_i} \\cdot \\vec{x_i} + \\vec{y_j} \\cdot \\vec{y_j} \\cdot \\vec{y_j}-2\\vec{x_i}\\cdot \\vec{y_j}$\n"
   ]
  },
  {
   "cell_type": "code",
   "execution_count": null,
   "metadata": {},
   "outputs": [],
   "source": [
    "def euclidean_distance_cpu(x, y):\n",
    "    x2 = np.einsum('ij,ij->i', x, x)[:, np.newaxis]\n",
    "    y2 = np.einsum('ij,ij->i', y, y)[:, np.newaxis].T\n",
    "    xy = x @ y.T\n",
    "    return np.abs(x2 + y2 - 2.0 * xy)"
   ]
  },
  {
   "cell_type": "code",
   "execution_count": null,
   "metadata": {},
   "outputs": [],
   "source": [
    "def euclidean_distance_gpu(x, y):\n",
    "    x2 = cp.einsum('ij,ij->i', x, x)[:, cp.newaxis]\n",
    "    y2 = cp.einsum('ij,ij->i', y, y)[:, cp.newaxis].T\n",
    "    xy = x @ y.T\n",
    "    return cp.abs(x2 + y2 - 2.0 * xy)"
   ]
  },
  {
   "cell_type": "code",
   "execution_count": null,
   "metadata": {},
   "outputs": [],
   "source": [
    "x_cpu = np.random.random((5000, 5000))\n",
    "y_cpu = np.random.random((5000, 5000))\n",
    "x_gpu = cp.array(x_cpu)\n",
    "y_gpu = cp.array(y_cpu)\n",
    "\n",
    "with cpu_timer():\n",
    "    eu_cpu = euclidean_distance_cpu(x_cpu, y_cpu)\n",
    "\n",
    "with cupy_timer():\n",
    "    eu_gpu = euclidean_distance_gpu(x_gpu, y_gpu)\n",
    "    \n",
    "print(np.allclose(eu_cpu, eu_gpu.get()))"
   ]
  },
  {
   "cell_type": "markdown",
   "metadata": {},
   "source": [
    "## Make function work for both CuPy/NumPy "
   ]
  },
  {
   "cell_type": "code",
   "execution_count": null,
   "metadata": {},
   "outputs": [],
   "source": [
    "def euclidean_distance(x, y):\n",
    "    modp = cp.get_array_module(x)\n",
    "    x2 = modp.einsum('ij,ij->i', x, x)[:, modp.newaxis]\n",
    "    y2 = modp.einsum('ij,ij->i', y, y)[:, modp.newaxis].T\n",
    "    xy = x @ y.T\n",
    "    return modp.abs(x2 + y2 - 2.0 * xy)"
   ]
  },
  {
   "cell_type": "code",
   "execution_count": null,
   "metadata": {},
   "outputs": [],
   "source": [
    "with cpu_timer():\n",
    "    eu_cpu = euclidean_distance(x_cpu, y_cpu)\n",
    "\n",
    "with cupy_timer():\n",
    "    eu_gpu = euclidean_distance(x_gpu, y_gpu)\n",
    "    \n",
    "print(np.allclose(eu_cpu, eu_gpu.get()))"
   ]
  },
  {
   "cell_type": "markdown",
   "metadata": {},
   "source": [
    "## Calculating/Plotting Julia Sets"
   ]
  },
  {
   "cell_type": "code",
   "execution_count": null,
   "metadata": {},
   "outputs": [],
   "source": [
    "%%cython\n",
    "\n",
    "# distutils: extra_compile_args = -fopenmp -march=native\n",
    "# distutils: extra_link_args = -fopenmp\n",
    "from cython cimport boundscheck, wraparound\n",
    "from cython.parallel cimport prange\n",
    "\n",
    "@boundscheck(False)\n",
    "@wraparound(False)\n",
    "def julia_set_cython(const double[:, :] X, const double[:, :] Y,\n",
    "                     const double cx, const double cy,\n",
    "                     const int iter_max, const double radius2, \n",
    "                     int[:, :] julia):\n",
    "    cdef:\n",
    "        int i, j, k, nx, ny\n",
    "        double x, y\n",
    "    nx = X.shape[0]\n",
    "    ny = Y.shape[1]\n",
    "    for i in prange(nx, nogil=True, schedule='static'):\n",
    "        for j in range(ny):\n",
    "            x = X[i, j]\n",
    "            y = Y[i, j]\n",
    "            k = 0\n",
    "            while x * x + y * y < radius2 and k < iter_max:\n",
    "                x, y = x * x - y * y + cx, 2.0 * x * y + cy\n",
    "                k = k + 1\n",
    "                \n",
    "            julia[i, j] = k "
   ]
  },
  {
   "cell_type": "code",
   "execution_count": null,
   "metadata": {},
   "outputs": [],
   "source": [
    "X, Y = np.meshgrid(np.linspace(-2.0 , 2.0, 5000), np.linspace(-2.0, 2.0, 5000))\n",
    "fig = plt.figure(figsize=(10, 10))\n",
    "ax = fig.add_subplot(111)\n",
    "julia = np.zeros_like(Z_cpu, dtype=np.int32)\n",
    "c = -0.9 + 0.22143j\n",
    "radius2 = 4.0\n",
    "with cpu_timer():\n",
    "    julia_set_cython(X, Y, c.real, c.imag, 100, radius2, julia)\n",
    "ax.set_aspect('equal')\n",
    "ax.imshow(julia, extent=[-2, 2, -2, 2]);"
   ]
  },
  {
   "cell_type": "markdown",
   "metadata": {},
   "source": [
    "### Elementwise Kernel"
   ]
  },
  {
   "cell_type": "code",
   "execution_count": null,
   "metadata": {},
   "outputs": [],
   "source": [
    "julia_kernel = cp.ElementwiseKernel('float64 X, float64 Y, float64 cx, float64 cy, int32 itermax, float64 radius2',\n",
    "                                    'int32 julia',\n",
    "                                    f'''julia = 0;\n",
    "                                    double x = X, y = Y;\n",
    "                                    double xtemp;\n",
    "                                    int nit = 0;\n",
    "                                    while(x * x + y * y < radius2 && nit < itermax) {{\n",
    "                                        xtemp = x * x - y * y + cx;\n",
    "                                        y = 2.0 * x * y + cy;\n",
    "                                        x = xtemp;\n",
    "                                        nit += 1;\n",
    "                                    }}\n",
    "                                    julia = nit;''', 'julia_kernel')"
   ]
  },
  {
   "cell_type": "code",
   "execution_count": null,
   "metadata": {},
   "outputs": [],
   "source": [
    "X, Y = cp.meshgrid(cp.linspace(-2.0 , 2.0, 5000), cp.linspace(-2.0, 2.0, 5000))\n",
    "fig = plt.figure(figsize=(10, 10))\n",
    "ax = fig.add_subplot(111)\n",
    "c = -0.9 + 0.22143j\n",
    "with cupy_timer():\n",
    "    julia_gpu = julia_kernel(X, Y, c.real, c.imag, 100, 4.0)\n",
    "    julia_array = julia_gpu.get()\n",
    "ax.set_aspect('equal')\n",
    "ax.imshow(julia_array, extent=[-2, 2, -2, 2]);"
   ]
  },
  {
   "cell_type": "markdown",
   "metadata": {},
   "source": [
    "### Raw Kernel"
   ]
  },
  {
   "cell_type": "code",
   "execution_count": null,
   "metadata": {},
   "outputs": [],
   "source": [
    "julia_rawkernel = cp.RawKernel(r'''\n",
    "        extern \"C\" \n",
    "        __global__ void julia_rawkernel(const double* X, const double* Y, const double cx,\n",
    "                              const double cy, const int itermax, const int nx,\n",
    "                              const int ny, const double radius, int* julia)  {\n",
    "        int tidx = blockDim.x * blockIdx.x + threadIdx.x;\n",
    "        int tidy = blockDim.y * blockIdx.y + threadIdx.y;\n",
    "        int niter = 0;\n",
    "        double tempx;\n",
    "        if(tidx < nx && tidy < ny) \n",
    "        {\n",
    "            int tid = tidy * nx + tidx;\n",
    "            double x = X[tid], y = Y[tid];\n",
    "            while((x * x + y * y) < (radius * radius) && niter < itermax) {\n",
    "                tempx = x * x - y * y + cx;\n",
    "                y = 2.0 * x * y + cy;\n",
    "                x = tempx;\n",
    "                niter +=1 ;\n",
    "            }\n",
    "            julia[tid] = niter;\n",
    "        }\n",
    "    }''', 'julia_rawkernel')"
   ]
  },
  {
   "cell_type": "code",
   "execution_count": null,
   "metadata": {},
   "outputs": [],
   "source": [
    "fig = plt.figure(figsize=(10, 10))\n",
    "ax = fig.add_subplot(111)\n",
    "c = -0.9 + 0.22143j\n",
    "threads_x = 32\n",
    "threads_y = 32\n",
    "x_points = 5000\n",
    "y_points = 5000\n",
    "x_blocks = (x_points - 1) // threads_x + 1 \n",
    "y_blocks = (y_points - 1) // threads_y + 1\n",
    "X_gpu, Y_gpu = cp.meshgrid(cp.linspace(-2.0 , 2.0, x_points), cp.linspace(-2.0, 2.0, y_points), indexing='ij')\n",
    "with cupy_timer():\n",
    "    julia_gpu = cp.zeros_like(X_gpu, dtype=cp.int32)\n",
    "    julia_rawkernel((x_blocks, y_blocks), (threads_x, threads_y), (X_gpu, Y_gpu, c.real, c.imag, 100, \n",
    "                    X_gpu.shape[0], X_gpu.shape[1], 2.0, julia_gpu))\n",
    "    julia_array = julia_gpu.get()\n",
    "ax.imshow(julia_array.T, extent=[-2, 2, -2, 2]);"
   ]
  },
  {
   "cell_type": "markdown",
   "metadata": {},
   "source": [
    "## CuPy Memory Pools "
   ]
  },
  {
   "cell_type": "code",
   "execution_count": null,
   "metadata": {
    "scrolled": true
   },
   "outputs": [],
   "source": [
    "!nvidia-smi #"
   ]
  },
  {
   "cell_type": "code",
   "execution_count": null,
   "metadata": {},
   "outputs": [],
   "source": [
    "%whos "
   ]
  },
  {
   "cell_type": "code",
   "execution_count": null,
   "metadata": {},
   "outputs": [],
   "source": [
    "mempool = cp.get_default_memory_pool()"
   ]
  },
  {
   "cell_type": "code",
   "execution_count": null,
   "metadata": {},
   "outputs": [],
   "source": [
    "print(mempool.used_bytes(), mempool.total_bytes())"
   ]
  }
 ],
 "metadata": {
  "kernelspec": {
   "display_name": "Python 3",
   "language": "python",
   "name": "python3"
  },
  "language_info": {
   "codemirror_mode": {
    "name": "ipython",
    "version": 3
   },
   "file_extension": ".py",
   "mimetype": "text/x-python",
   "name": "python",
   "nbconvert_exporter": "python",
   "pygments_lexer": "ipython3",
   "version": "3.6.5"
  }
 },
 "nbformat": 4,
 "nbformat_minor": 4
}
